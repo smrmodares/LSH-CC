{
  "cells": [
    {
      "cell_type": "markdown",
      "source": [
        "# Imports"
      ],
      "metadata": {
        "id": "JIoyBMxLL-un"
      }
    },
    {
      "cell_type": "code",
      "source": [
        "import pandas as pd\n",
        "import numpy as np\n",
        "from random import shuffle"
      ],
      "metadata": {
        "id": "sLEgnLK9MCo_"
      },
      "execution_count": null,
      "outputs": []
    },
    {
      "cell_type": "markdown",
      "source": [
        "# Random dataset"
      ],
      "metadata": {
        "id": "HtlMPuZ6bh7O"
      }
    },
    {
      "cell_type": "code",
      "source": [
        "nodes = 5\n",
        "# creating a random matrix with respective probabilities\n",
        "val = np.random.choice(2, size=(nodes, nodes), p=[0.3, 0.7])\n",
        "val"
      ],
      "metadata": {
        "colab": {
          "base_uri": "https://localhost:8080/"
        },
        "id": "OkW36ltIUVir",
        "outputId": "acc9ed0b-929c-408c-c0c1-2d146dd17056"
      },
      "execution_count": null,
      "outputs": [
        {
          "output_type": "execute_result",
          "data": {
            "text/plain": [
              "array([[1, 0, 1, 1, 1],\n",
              "       [1, 0, 0, 1, 0],\n",
              "       [1, 1, 0, 0, 1],\n",
              "       [1, 1, 1, 0, 0],\n",
              "       [1, 0, 1, 1, 1]])"
            ]
          },
          "metadata": {},
          "execution_count": 2
        }
      ]
    },
    {
      "cell_type": "code",
      "source": [
        "# convert the ranbom matrix to a adjacency matrix by make it symmetric to diagonal\n",
        "for i, row in enumerate(val):\n",
        "  val[:, i] = row\n",
        "np.fill_diagonal(val, 1)\n",
        "data = val"
      ],
      "metadata": {
        "id": "oDS9CCb_XzRf"
      },
      "execution_count": null,
      "outputs": []
    },
    {
      "cell_type": "markdown",
      "source": [
        "# Real Data"
      ],
      "metadata": {
        "id": "kjHjSi1zJ2A_"
      }
    },
    {
      "cell_type": "code",
      "source": [
        "data = pd.read_excel('rnd_200_rows.xlsx')\n",
        "data = np.array(data)\n",
        "data[data == -1] = 0\n",
        "nodes = len(data)"
      ],
      "metadata": {
        "id": "CPyGsifvJ8hz"
      },
      "execution_count": null,
      "outputs": []
    },
    {
      "cell_type": "markdown",
      "source": [],
      "metadata": {
        "id": "911XcQ-4N7xU"
      }
    },
    {
      "cell_type": "code",
      "source": [],
      "metadata": {
        "id": "m28NcDv1KJU3"
      },
      "execution_count": null,
      "outputs": []
    },
    {
      "cell_type": "markdown",
      "source": [
        "# LSH"
      ],
      "metadata": {
        "id": "K472ufTB4fv6"
      }
    },
    {
      "cell_type": "code",
      "source": [
        "total = 20\n",
        "band_num = 5\n",
        "row_num  = total / band_num"
      ],
      "metadata": {
        "id": "5vku-O2uVziN"
      },
      "execution_count": null,
      "outputs": []
    },
    {
      "cell_type": "code",
      "execution_count": null,
      "source": [
        "def create_hash_func(size: int):\n",
        "    # function for creating the hash vector/function\n",
        "    hash_ex = list(range(size))\n",
        "    shuffle(hash_ex)\n",
        "    return hash_ex\n",
        "\n",
        "def build_minhash_func(vocab_size: int, nbits: int):\n",
        "    # function for building multiple minhash vectors\n",
        "    hashes = []\n",
        "    for _ in range(nbits):\n",
        "        hashes.append(create_hash_func(vocab_size))\n",
        "    return hashes\n"
      ],
      "outputs": [],
      "metadata": {
        "id": "7aMTJS2SqZT1"
      }
    },
    {
      "cell_type": "code",
      "source": [
        "\n",
        "# we create 20 minhash vectors\n",
        "minhash_funcs = build_minhash_func(len(data), total)"
      ],
      "metadata": {
        "id": "MFW9bjenUT_U"
      },
      "execution_count": null,
      "outputs": []
    },
    {
      "cell_type": "code",
      "execution_count": null,
      "source": [
        "def create_hash(minhash_fn, vector: list):\n",
        "    # use this function for creating our signatures (eg the matching)\n",
        "    signature = []\n",
        "    for func in minhash_fn:\n",
        "        for i in range(len(vector)):\n",
        "            idx = func.index(i)\n",
        "            signature_val = vector[idx]\n",
        "            if signature_val == 1:\n",
        "                signature.append(idx)\n",
        "                break\n",
        "    return signature"
      ],
      "outputs": [],
      "metadata": {
        "id": "F0i0EOVCqZT4"
      }
    },
    {
      "cell_type": "code",
      "execution_count": null,
      "source": [
        "# now create signatures\n",
        "sigs = []\n",
        "for i in range(len(data)):\n",
        "  sigs.append(create_hash(minhash_funcs, data[i]))"
      ],
      "outputs": [],
      "metadata": {
        "id": "7PBFyCiBqZT4"
      }
    },
    {
      "cell_type": "code",
      "source": [
        "bands_clusters = []\n",
        "for i in range(band_num):\n",
        "  band_cluster = dict()\n",
        "  for j, sig in enumerate(sigs):\n",
        "    lsh = sum(sig[i*band_num: (i+1)*band_num]) % nodes\n",
        "    band_cluster[lsh] = (band_cluster.get(lsh,list()))+ [j]\n",
        "  bands_clusters.append(band_cluster)"
      ],
      "metadata": {
        "id": "lyFgu3RybEG7"
      },
      "execution_count": null,
      "outputs": []
    },
    {
      "cell_type": "code",
      "source": [
        "def score(val, cluster):\n",
        "  score = 0\n",
        "  for lst in cluster.values():\n",
        "    for i in range(len(lst)):\n",
        "      for j in range(i, len(lst)):\n",
        "        \n",
        "        if val[lst[i]][lst[j]] == 0:\n",
        "          score -= 1\n",
        "  return score\n"
      ],
      "metadata": {
        "id": "IcQXF6_3cBCj"
      },
      "execution_count": null,
      "outputs": []
    },
    {
      "cell_type": "code",
      "source": [
        "def score_agree_disagree(val, cluster):\n",
        "  plus_score = 0\n",
        "  score = 0\n",
        "  for lst in cluster.values():\n",
        "    for i in range(len(lst)):\n",
        "\n",
        "      for j in range(len(val)):\n",
        "\n",
        "        if j not in lst:\n",
        "          if val[lst[i]][j] == 1:\n",
        "            plus_score -= 1\n",
        " \n",
        "        for j in range(i, len(lst)):\n",
        "          if val[lst[i]][lst[j]] == 0:\n",
        "            score -= 1\n",
        "  return score + (plus_score/2)"
      ],
      "metadata": {
        "id": "6yppWzh1GW-U"
      },
      "execution_count": null,
      "outputs": []
    },
    {
      "cell_type": "code",
      "source": [
        "def score_agree_disagree_print(val, cluster):\n",
        "  score = 0\n",
        "  plus_score = 0\n",
        "  for lst in cluster.values():\n",
        "    for i in range(len(lst)):\n",
        "\n",
        "      for j in range(len(val)):\n",
        "\n",
        "        if j not in lst:\n",
        "          if val[lst[i]][j] == 1:\n",
        "            plus_score -= 1\n",
        "            print('+err', lst[i], j)\n",
        "        for j in range(i, len(lst)):\n",
        "          if val[lst[i]][lst[j]] == 0:\n",
        "            score -= 1\n",
        "            print('-err', lst[i], lst[j])   \n",
        "  return score + (plus_score/2)"
      ],
      "metadata": {
        "id": "rpV76jczDcCw"
      },
      "execution_count": null,
      "outputs": []
    },
    {
      "cell_type": "code",
      "source": [
        "score(data, bands_clusters[4])"
      ],
      "metadata": {
        "colab": {
          "base_uri": "https://localhost:8080/"
        },
        "id": "-FCAHX0HcDfg",
        "outputId": "ecfd28f4-5b5b-4ba7-82e8-fe21123e6bc7"
      },
      "execution_count": null,
      "outputs": [
        {
          "output_type": "execute_result",
          "data": {
            "text/plain": [
              "-13054"
            ]
          },
          "metadata": {},
          "execution_count": 14
        }
      ]
    },
    {
      "cell_type": "code",
      "source": [
        "def find_best_cluster(bands_clusters):\n",
        "  max = -float('inf')\n",
        "  max_cluster= None\n",
        "  for cluster in bands_clusters:\n",
        "    # scr = score(data, cluster)\n",
        "    scr = score_agree_disagree(data, cluster)\n",
        "    if scr > max:\n",
        "      max = scr\n",
        "      max_cluster = cluster\n",
        "    if scr == 0:\n",
        "      break\n",
        "  return max_cluster, max"
      ],
      "metadata": {
        "id": "NWonfGaPdhDn"
      },
      "execution_count": null,
      "outputs": []
    },
    {
      "cell_type": "markdown",
      "source": [
        "## Do it many times"
      ],
      "metadata": {
        "id": "uMJ95-moSEq6"
      }
    },
    {
      "cell_type": "code",
      "source": [
        "best_cluster = None\n",
        "best_score = -float('inf')\n",
        "\n",
        "for _ in range(50):\n",
        "  # we create 20 minhash vectors\n",
        "  minhash_funcs = build_minhash_func(len(data), total)\n",
        "\n",
        "  # now create signatures\n",
        "  sigs = []\n",
        "  for i in range(len(data)):\n",
        "    sigs.append(create_hash(minhash_funcs, data[i]))\n",
        "\n",
        "  bands_clusters = []\n",
        "  for i in range(band_num):\n",
        "    band_cluster = dict()\n",
        "    for j, sig in enumerate(sigs):\n",
        "      lsh = sum(sig[i*band_num: (i+1)*band_num].join('')) % nodes\n",
        "      # print(sig[i*band_num: (i+1)*band_num])\n",
        "      # lsh = int(''.join(map(str,sig[i*band_num: (i+1)*band_num])), 2) % nodes\n",
        "      band_cluster[lsh] = (band_cluster.get(lsh,list()))+ [j]\n",
        "    bands_clusters.append(band_cluster)\n",
        "  cluster, scr = find_best_cluster(bands_clusters)\n",
        "  if scr > best_score:\n",
        "    best_score = scr\n",
        "    best_cluster = cluster\n",
        "\n",
        "\n",
        "print(best_score)\n",
        "print(best_cluster)\n",
        "  \n",
        "score_agree_disagree_print(data, best_cluster)"
      ],
      "metadata": {
        "colab": {
          "base_uri": "https://localhost:8080/",
          "height": 252
        },
        "id": "Kj4Ae1IPSJO9",
        "outputId": "af549885-fcac-4500-d06b-b15bb820f354"
      },
      "execution_count": null,
      "outputs": [
        {
          "output_type": "stream",
          "name": "stdout",
          "text": [
            "[32, 72, 19, 17, 47]\n"
          ]
        },
        {
          "output_type": "error",
          "ename": "ValueError",
          "evalue": "ignored",
          "traceback": [
            "\u001b[0;31m---------------------------------------------------------------------------\u001b[0m",
            "\u001b[0;31mValueError\u001b[0m                                Traceback (most recent call last)",
            "\u001b[0;32m<ipython-input-18-d6259f39be20>\u001b[0m in \u001b[0;36m<cell line: 4>\u001b[0;34m()\u001b[0m\n\u001b[1;32m     17\u001b[0m       \u001b[0;31m# lsh = sum(sig[i*band_num: (i+1)*band_num].join('')) % nodes\u001b[0m\u001b[0;34m\u001b[0m\u001b[0;34m\u001b[0m\u001b[0m\n\u001b[1;32m     18\u001b[0m       \u001b[0mprint\u001b[0m\u001b[0;34m(\u001b[0m\u001b[0msig\u001b[0m\u001b[0;34m[\u001b[0m\u001b[0mi\u001b[0m\u001b[0;34m*\u001b[0m\u001b[0mband_num\u001b[0m\u001b[0;34m:\u001b[0m \u001b[0;34m(\u001b[0m\u001b[0mi\u001b[0m\u001b[0;34m+\u001b[0m\u001b[0;36m1\u001b[0m\u001b[0;34m)\u001b[0m\u001b[0;34m*\u001b[0m\u001b[0mband_num\u001b[0m\u001b[0;34m]\u001b[0m\u001b[0;34m)\u001b[0m\u001b[0;34m\u001b[0m\u001b[0;34m\u001b[0m\u001b[0m\n\u001b[0;32m---> 19\u001b[0;31m       \u001b[0mlsh\u001b[0m \u001b[0;34m=\u001b[0m \u001b[0mint\u001b[0m\u001b[0;34m(\u001b[0m\u001b[0;34m''\u001b[0m\u001b[0;34m.\u001b[0m\u001b[0mjoin\u001b[0m\u001b[0;34m(\u001b[0m\u001b[0mmap\u001b[0m\u001b[0;34m(\u001b[0m\u001b[0mstr\u001b[0m\u001b[0;34m,\u001b[0m\u001b[0msig\u001b[0m\u001b[0;34m[\u001b[0m\u001b[0mi\u001b[0m\u001b[0;34m*\u001b[0m\u001b[0mband_num\u001b[0m\u001b[0;34m:\u001b[0m \u001b[0;34m(\u001b[0m\u001b[0mi\u001b[0m\u001b[0;34m+\u001b[0m\u001b[0;36m1\u001b[0m\u001b[0;34m)\u001b[0m\u001b[0;34m*\u001b[0m\u001b[0mband_num\u001b[0m\u001b[0;34m]\u001b[0m\u001b[0;34m)\u001b[0m\u001b[0;34m)\u001b[0m\u001b[0;34m,\u001b[0m \u001b[0;36m2\u001b[0m\u001b[0;34m)\u001b[0m \u001b[0;34m%\u001b[0m \u001b[0mnodes\u001b[0m\u001b[0;34m\u001b[0m\u001b[0;34m\u001b[0m\u001b[0m\n\u001b[0m\u001b[1;32m     20\u001b[0m       \u001b[0mband_cluster\u001b[0m\u001b[0;34m[\u001b[0m\u001b[0mlsh\u001b[0m\u001b[0;34m]\u001b[0m \u001b[0;34m=\u001b[0m \u001b[0;34m(\u001b[0m\u001b[0mband_cluster\u001b[0m\u001b[0;34m.\u001b[0m\u001b[0mget\u001b[0m\u001b[0;34m(\u001b[0m\u001b[0mlsh\u001b[0m\u001b[0;34m,\u001b[0m\u001b[0mlist\u001b[0m\u001b[0;34m(\u001b[0m\u001b[0;34m)\u001b[0m\u001b[0;34m)\u001b[0m\u001b[0;34m)\u001b[0m\u001b[0;34m+\u001b[0m \u001b[0;34m[\u001b[0m\u001b[0mj\u001b[0m\u001b[0;34m]\u001b[0m\u001b[0;34m\u001b[0m\u001b[0;34m\u001b[0m\u001b[0m\n\u001b[1;32m     21\u001b[0m     \u001b[0mbands_clusters\u001b[0m\u001b[0;34m.\u001b[0m\u001b[0mappend\u001b[0m\u001b[0;34m(\u001b[0m\u001b[0mband_cluster\u001b[0m\u001b[0;34m)\u001b[0m\u001b[0;34m\u001b[0m\u001b[0;34m\u001b[0m\u001b[0m\n",
            "\u001b[0;31mValueError\u001b[0m: invalid literal for int() with base 2: '3272191747'"
          ]
        }
      ]
    },
    {
      "cell_type": "code",
      "source": [
        "print(len(best_cluster.keys()))"
      ],
      "metadata": {
        "id": "oaPAFidwU7Cg"
      },
      "execution_count": null,
      "outputs": []
    },
    {
      "cell_type": "code",
      "source": [
        "a= [1,2,3]"
      ],
      "metadata": {
        "id": "juj53kvrWa9V"
      },
      "execution_count": null,
      "outputs": []
    },
    {
      "cell_type": "code",
      "source": [
        "a.remove(1)"
      ],
      "metadata": {
        "id": "iDVdnUx2DKpS"
      },
      "execution_count": null,
      "outputs": []
    },
    {
      "cell_type": "code",
      "source": [
        "a"
      ],
      "metadata": {
        "id": "e5f5lMCPDQ28"
      },
      "execution_count": null,
      "outputs": []
    },
    {
      "cell_type": "code",
      "source": [
        "int(''.join(map(str,a)))"
      ],
      "metadata": {
        "id": "-IbUW2bXDVzC"
      },
      "execution_count": null,
      "outputs": []
    },
    {
      "cell_type": "code",
      "source": [],
      "metadata": {
        "id": "QhnkbvtXgF5r"
      },
      "execution_count": null,
      "outputs": []
    }
  ],
  "metadata": {
    "orig_nbformat": 4,
    "language_info": {
      "name": "python",
      "version": "3.8.8",
      "mimetype": "text/x-python",
      "codemirror_mode": {
        "name": "ipython",
        "version": 3
      },
      "pygments_lexer": "ipython3",
      "nbconvert_exporter": "python",
      "file_extension": ".py"
    },
    "kernelspec": {
      "name": "python3",
      "display_name": "Python 3.8.8 64-bit ('ml': conda)"
    },
    "interpreter": {
      "hash": "a683edd788238e5c64f9fa2e4bdd4387776bc5c6f4f0a84da0685f9a25e421d6"
    },
    "colab": {
      "provenance": [],
      "collapsed_sections": [
        "HtlMPuZ6bh7O"
      ]
    }
  },
  "nbformat": 4,
  "nbformat_minor": 0
}