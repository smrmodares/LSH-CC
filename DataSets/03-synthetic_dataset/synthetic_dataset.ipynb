{
 "cells": [
  {
   "cell_type": "code",
   "execution_count": 1,
   "metadata": {},
   "outputs": [],
   "source": [
    "import numpy as np\n"
   ]
  },
  {
   "cell_type": "code",
   "execution_count": 7,
   "metadata": {},
   "outputs": [],
   "source": [
    "\n",
    "nodes = 800\n",
    "# creating a random matrix with respective probabilities\n",
    "val = np.random.choice(2, size=(nodes, nodes), p=[0.7, 0.3]).astype(int)\n",
    "\n",
    "\n",
    "# convert the random matrix to a adjacency matrix by make it symmetric to diagonal\n",
    "for i, row in enumerate(val):\n",
    "  val[:, i] = row\n",
    "np.fill_diagonal(val, 1)\n",
    "\n",
    "## save to xlsx file\n",
    "filepath = 'new_'+str(nodes)+'_rows.csv'\n",
    "np.savetxt(filepath, val,fmt='%u', delimiter=\",\")\n"
   ]
  },
  {
   "cell_type": "code",
   "execution_count": 6,
   "metadata": {},
   "outputs": [
    {
     "data": {
      "text/plain": [
       "numpy.int32"
      ]
     },
     "execution_count": 6,
     "metadata": {},
     "output_type": "execute_result"
    }
   ],
   "source": [
    "type(val[0][0])"
   ]
  }
 ],
 "metadata": {
  "kernelspec": {
   "display_name": "P37",
   "language": "python",
   "name": "python3"
  },
  "language_info": {
   "codemirror_mode": {
    "name": "ipython",
    "version": 3
   },
   "file_extension": ".py",
   "mimetype": "text/x-python",
   "name": "python",
   "nbconvert_exporter": "python",
   "pygments_lexer": "ipython3",
   "version": "3.7.13"
  },
  "orig_nbformat": 4
 },
 "nbformat": 4,
 "nbformat_minor": 2
}
